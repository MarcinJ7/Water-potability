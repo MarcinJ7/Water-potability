{
 "cells": [
  {
   "cell_type": "code",
   "execution_count": 1,
   "id": "1abff74f",
   "metadata": {},
   "outputs": [],
   "source": [
    "import pandas as pd\n",
    "import matplotlib.pyplot as plt"
   ]
  },
  {
   "cell_type": "code",
   "execution_count": 2,
   "id": "8bfd8bd7",
   "metadata": {},
   "outputs": [],
   "source": [
    "# Wczytanie danych - plik csv\n",
    "df = pd.read_csv('water_potability.csv')\n",
    "# Dane pobrane z: https://www.kaggle.com/datasets/adityakadiwal/water-potability"
   ]
  },
  {
   "cell_type": "code",
   "execution_count": 3,
   "id": "439ecf8a",
   "metadata": {},
   "outputs": [
    {
     "data": {
      "text/html": [
       "<div>\n",
       "<style scoped>\n",
       "    .dataframe tbody tr th:only-of-type {\n",
       "        vertical-align: middle;\n",
       "    }\n",
       "\n",
       "    .dataframe tbody tr th {\n",
       "        vertical-align: top;\n",
       "    }\n",
       "\n",
       "    .dataframe thead th {\n",
       "        text-align: right;\n",
       "    }\n",
       "</style>\n",
       "<table border=\"1\" class=\"dataframe\">\n",
       "  <thead>\n",
       "    <tr style=\"text-align: right;\">\n",
       "      <th></th>\n",
       "      <th>ph</th>\n",
       "      <th>Hardness</th>\n",
       "      <th>Solids</th>\n",
       "      <th>Chloramines</th>\n",
       "      <th>Sulfate</th>\n",
       "      <th>Conductivity</th>\n",
       "      <th>Organic_carbon</th>\n",
       "      <th>Trihalomethanes</th>\n",
       "      <th>Turbidity</th>\n",
       "      <th>Potability</th>\n",
       "    </tr>\n",
       "  </thead>\n",
       "  <tbody>\n",
       "    <tr>\n",
       "      <th>0</th>\n",
       "      <td>NaN</td>\n",
       "      <td>204.890455</td>\n",
       "      <td>20791.318981</td>\n",
       "      <td>7.300212</td>\n",
       "      <td>368.516441</td>\n",
       "      <td>564.308654</td>\n",
       "      <td>10.379783</td>\n",
       "      <td>86.990970</td>\n",
       "      <td>2.963135</td>\n",
       "      <td>0</td>\n",
       "    </tr>\n",
       "    <tr>\n",
       "      <th>1</th>\n",
       "      <td>3.716080</td>\n",
       "      <td>129.422921</td>\n",
       "      <td>18630.057858</td>\n",
       "      <td>6.635246</td>\n",
       "      <td>NaN</td>\n",
       "      <td>592.885359</td>\n",
       "      <td>15.180013</td>\n",
       "      <td>56.329076</td>\n",
       "      <td>4.500656</td>\n",
       "      <td>0</td>\n",
       "    </tr>\n",
       "    <tr>\n",
       "      <th>2</th>\n",
       "      <td>8.099124</td>\n",
       "      <td>224.236259</td>\n",
       "      <td>19909.541732</td>\n",
       "      <td>9.275884</td>\n",
       "      <td>NaN</td>\n",
       "      <td>418.606213</td>\n",
       "      <td>16.868637</td>\n",
       "      <td>66.420093</td>\n",
       "      <td>3.055934</td>\n",
       "      <td>0</td>\n",
       "    </tr>\n",
       "    <tr>\n",
       "      <th>3</th>\n",
       "      <td>8.316766</td>\n",
       "      <td>214.373394</td>\n",
       "      <td>22018.417441</td>\n",
       "      <td>8.059332</td>\n",
       "      <td>356.886136</td>\n",
       "      <td>363.266516</td>\n",
       "      <td>18.436524</td>\n",
       "      <td>100.341674</td>\n",
       "      <td>4.628771</td>\n",
       "      <td>0</td>\n",
       "    </tr>\n",
       "    <tr>\n",
       "      <th>4</th>\n",
       "      <td>9.092223</td>\n",
       "      <td>181.101509</td>\n",
       "      <td>17978.986339</td>\n",
       "      <td>6.546600</td>\n",
       "      <td>310.135738</td>\n",
       "      <td>398.410813</td>\n",
       "      <td>11.558279</td>\n",
       "      <td>31.997993</td>\n",
       "      <td>4.075075</td>\n",
       "      <td>0</td>\n",
       "    </tr>\n",
       "  </tbody>\n",
       "</table>\n",
       "</div>"
      ],
      "text/plain": [
       "         ph    Hardness        Solids  Chloramines     Sulfate  Conductivity  \\\n",
       "0       NaN  204.890455  20791.318981     7.300212  368.516441    564.308654   \n",
       "1  3.716080  129.422921  18630.057858     6.635246         NaN    592.885359   \n",
       "2  8.099124  224.236259  19909.541732     9.275884         NaN    418.606213   \n",
       "3  8.316766  214.373394  22018.417441     8.059332  356.886136    363.266516   \n",
       "4  9.092223  181.101509  17978.986339     6.546600  310.135738    398.410813   \n",
       "\n",
       "   Organic_carbon  Trihalomethanes  Turbidity  Potability  \n",
       "0       10.379783        86.990970   2.963135           0  \n",
       "1       15.180013        56.329076   4.500656           0  \n",
       "2       16.868637        66.420093   3.055934           0  \n",
       "3       18.436524       100.341674   4.628771           0  \n",
       "4       11.558279        31.997993   4.075075           0  "
      ]
     },
     "execution_count": 3,
     "metadata": {},
     "output_type": "execute_result"
    }
   ],
   "source": [
    "# Rzut okiem na dane\n",
    "df.head()"
   ]
  },
  {
   "cell_type": "code",
   "execution_count": 4,
   "id": "1acfcec3",
   "metadata": {},
   "outputs": [
    {
     "name": "stdout",
     "output_type": "stream",
     "text": [
      "<class 'pandas.core.frame.DataFrame'>\n",
      "RangeIndex: 3276 entries, 0 to 3275\n",
      "Data columns (total 10 columns):\n",
      " #   Column           Non-Null Count  Dtype  \n",
      "---  ------           --------------  -----  \n",
      " 0   ph               2785 non-null   float64\n",
      " 1   Hardness         3276 non-null   float64\n",
      " 2   Solids           3276 non-null   float64\n",
      " 3   Chloramines      3276 non-null   float64\n",
      " 4   Sulfate          2495 non-null   float64\n",
      " 5   Conductivity     3276 non-null   float64\n",
      " 6   Organic_carbon   3276 non-null   float64\n",
      " 7   Trihalomethanes  3114 non-null   float64\n",
      " 8   Turbidity        3276 non-null   float64\n",
      " 9   Potability       3276 non-null   int64  \n",
      "dtypes: float64(9), int64(1)\n",
      "memory usage: 256.1 KB\n"
     ]
    }
   ],
   "source": [
    "df.info()"
   ]
  },
  {
   "cell_type": "code",
   "execution_count": 6,
   "id": "4c47a469",
   "metadata": {},
   "outputs": [],
   "source": [
    "# Mamy 10 kolumn - typ liczowy. Ramka posiada wartości odstające, które usuwamy"
   ]
  },
  {
   "cell_type": "code",
   "execution_count": 7,
   "id": "817377df",
   "metadata": {},
   "outputs": [],
   "source": [
    "df = df.dropna()"
   ]
  },
  {
   "cell_type": "code",
   "execution_count": 8,
   "id": "33e21ae5",
   "metadata": {},
   "outputs": [
    {
     "name": "stdout",
     "output_type": "stream",
     "text": [
      "<class 'pandas.core.frame.DataFrame'>\n",
      "Int64Index: 2011 entries, 3 to 3271\n",
      "Data columns (total 10 columns):\n",
      " #   Column           Non-Null Count  Dtype  \n",
      "---  ------           --------------  -----  \n",
      " 0   ph               2011 non-null   float64\n",
      " 1   Hardness         2011 non-null   float64\n",
      " 2   Solids           2011 non-null   float64\n",
      " 3   Chloramines      2011 non-null   float64\n",
      " 4   Sulfate          2011 non-null   float64\n",
      " 5   Conductivity     2011 non-null   float64\n",
      " 6   Organic_carbon   2011 non-null   float64\n",
      " 7   Trihalomethanes  2011 non-null   float64\n",
      " 8   Turbidity        2011 non-null   float64\n",
      " 9   Potability       2011 non-null   int64  \n",
      "dtypes: float64(9), int64(1)\n",
      "memory usage: 172.8 KB\n"
     ]
    }
   ],
   "source": [
    "df.info()"
   ]
  },
  {
   "cell_type": "code",
   "execution_count": 9,
   "id": "8129b3b7",
   "metadata": {},
   "outputs": [],
   "source": [
    "# Teraz nie mamy już wartości odstających. "
   ]
  },
  {
   "cell_type": "code",
   "execution_count": 10,
   "id": "0b7432ba",
   "metadata": {},
   "outputs": [],
   "source": [
    "# Sprawdźmy bilnas klas. Zmienna przewidywana to Potability, które zgodnie z opisem:\n",
    "# Indicates if water is safe for human consumption where 1 means Potable and 0 means Not potable."
   ]
  },
  {
   "cell_type": "code",
   "execution_count": 12,
   "id": "9135e70c",
   "metadata": {},
   "outputs": [
    {
     "data": {
      "text/plain": [
       "0    1200\n",
       "1     811\n",
       "Name: Potability, dtype: int64"
      ]
     },
     "execution_count": 12,
     "metadata": {},
     "output_type": "execute_result"
    }
   ],
   "source": [
    "df['Potability'].value_counts()"
   ]
  },
  {
   "cell_type": "code",
   "execution_count": 13,
   "id": "31be2f5e",
   "metadata": {},
   "outputs": [],
   "source": [
    "# Klasy są zbilansowane"
   ]
  },
  {
   "cell_type": "code",
   "execution_count": 14,
   "id": "a43d86ad",
   "metadata": {},
   "outputs": [],
   "source": [
    "# Dzielimy dane na uczące i testowe (0.75 - 0.25)"
   ]
  },
  {
   "cell_type": "code",
   "execution_count": 16,
   "id": "de153704",
   "metadata": {},
   "outputs": [],
   "source": [
    "X = df.drop(columns= ['Potability'])"
   ]
  },
  {
   "cell_type": "code",
   "execution_count": 17,
   "id": "43a420ab",
   "metadata": {},
   "outputs": [],
   "source": [
    "Y = df['Potability']"
   ]
  },
  {
   "cell_type": "code",
   "execution_count": 18,
   "id": "97acb40d",
   "metadata": {},
   "outputs": [],
   "source": [
    "# Import skaleera oraz funkcji dzielącej dane\n",
    "from sklearn.model_selection import train_test_split\n",
    "from sklearn.preprocessing import MinMaxScaler"
   ]
  },
  {
   "cell_type": "code",
   "execution_count": 19,
   "id": "a1997097",
   "metadata": {},
   "outputs": [],
   "source": [
    "x_train, x_test, y_train, y_test = train_test_split(X, Y, test_size = 0.25, random_state=1) "
   ]
  },
  {
   "cell_type": "code",
   "execution_count": 20,
   "id": "96b37b64",
   "metadata": {},
   "outputs": [],
   "source": [
    "# Skalowanie danych"
   ]
  },
  {
   "cell_type": "code",
   "execution_count": 22,
   "id": "ffbf68fe",
   "metadata": {},
   "outputs": [],
   "source": [
    "minMax = MinMaxScaler()\n",
    "x_train_scaled = minMax.fit_transform(x_train)\n",
    "x_test_scaled = minMax.transform(x_test)"
   ]
  },
  {
   "cell_type": "code",
   "execution_count": 23,
   "id": "0889f83e",
   "metadata": {},
   "outputs": [],
   "source": [
    "# Sieć neuronowa"
   ]
  },
  {
   "cell_type": "code",
   "execution_count": 118,
   "id": "7cc94bfe",
   "metadata": {},
   "outputs": [],
   "source": [
    "import tensorflow as tf\n",
    "# Warstwa wejściowa\n",
    "model = tf.keras.models.Sequential()\n",
    "model.add(tf.keras.layers.Dense(10, activation='relu', input_shape=(x_train_scaled.shape[1], )))\n",
    "# Dwie ukryte warstwy\n",
    "model.add(tf.keras.layers.Dense(10, activation='relu'))\n",
    "model.add(tf.keras.layers.Dense(10, activation='relu'))\n",
    "# Wyjście\n",
    "model.add(tf.keras.layers.Dense(1, activation='sigmoid'))\n",
    "\n",
    "model.compile(loss='binary_crossentropy', optimizer='adam', metrics=['accuracy'])"
   ]
  },
  {
   "cell_type": "code",
   "execution_count": 119,
   "id": "ee039a3e",
   "metadata": {},
   "outputs": [
    {
     "name": "stdout",
     "output_type": "stream",
     "text": [
      "Epoch 1/100\n",
      "WARNING:tensorflow:AutoGraph could not transform <function Model.make_train_function.<locals>.train_function at 0x0000026F1A49FAF8> and will run it as-is.\n",
      "Please report this to the TensorFlow team. When filing the bug, set the verbosity to 10 (on Linux, `export AUTOGRAPH_VERBOSITY=10`) and attach the full output.\n",
      "Cause: 'arguments' object has no attribute 'posonlyargs'\n",
      "To silence this warning, decorate the function with @tf.autograph.experimental.do_not_convert\n",
      "WARNING: AutoGraph could not transform <function Model.make_train_function.<locals>.train_function at 0x0000026F1A49FAF8> and will run it as-is.\n",
      "Please report this to the TensorFlow team. When filing the bug, set the verbosity to 10 (on Linux, `export AUTOGRAPH_VERBOSITY=10`) and attach the full output.\n",
      "Cause: 'arguments' object has no attribute 'posonlyargs'\n",
      "To silence this warning, decorate the function with @tf.autograph.experimental.do_not_convert\n",
      " 1/48 [..............................] - ETA: 20s - loss: 0.7879 - accuracy: 0.3125WARNING:tensorflow:AutoGraph could not transform <function Model.make_test_function.<locals>.test_function at 0x0000026F1943A4C8> and will run it as-is.\n",
      "Please report this to the TensorFlow team. When filing the bug, set the verbosity to 10 (on Linux, `export AUTOGRAPH_VERBOSITY=10`) and attach the full output.\n",
      "Cause: 'arguments' object has no attribute 'posonlyargs'\n",
      "To silence this warning, decorate the function with @tf.autograph.experimental.do_not_convert\n",
      "WARNING: AutoGraph could not transform <function Model.make_test_function.<locals>.test_function at 0x0000026F1943A4C8> and will run it as-is.\n",
      "Please report this to the TensorFlow team. When filing the bug, set the verbosity to 10 (on Linux, `export AUTOGRAPH_VERBOSITY=10`) and attach the full output.\n",
      "Cause: 'arguments' object has no attribute 'posonlyargs'\n",
      "To silence this warning, decorate the function with @tf.autograph.experimental.do_not_convert\n",
      "48/48 [==============================] - 1s 5ms/step - loss: 0.7088 - accuracy: 0.4733 - val_loss: 0.6661 - val_accuracy: 0.6143\n",
      "Epoch 2/100\n",
      "48/48 [==============================] - 0s 2ms/step - loss: 0.6800 - accuracy: 0.5845 - val_loss: 0.6661 - val_accuracy: 0.6143\n",
      "Epoch 3/100\n",
      "48/48 [==============================] - 0s 2ms/step - loss: 0.6733 - accuracy: 0.6045 - val_loss: 0.6658 - val_accuracy: 0.6143\n",
      "Epoch 4/100\n",
      "48/48 [==============================] - 0s 2ms/step - loss: 0.6743 - accuracy: 0.5957 - val_loss: 0.6662 - val_accuracy: 0.6143\n",
      "Epoch 5/100\n",
      "48/48 [==============================] - 0s 2ms/step - loss: 0.6837 - accuracy: 0.5628 - val_loss: 0.6635 - val_accuracy: 0.6143\n",
      "Epoch 6/100\n",
      "48/48 [==============================] - 0s 2ms/step - loss: 0.6800 - accuracy: 0.5786 - val_loss: 0.6639 - val_accuracy: 0.6163\n",
      "Epoch 7/100\n",
      "48/48 [==============================] - 0s 2ms/step - loss: 0.6683 - accuracy: 0.6048 - val_loss: 0.6642 - val_accuracy: 0.6223\n",
      "Epoch 8/100\n",
      "48/48 [==============================] - 0s 2ms/step - loss: 0.6690 - accuracy: 0.6030 - val_loss: 0.6656 - val_accuracy: 0.6262\n",
      "Epoch 9/100\n",
      "48/48 [==============================] - 0s 2ms/step - loss: 0.6775 - accuracy: 0.5744 - val_loss: 0.6604 - val_accuracy: 0.6223\n",
      "Epoch 10/100\n",
      "48/48 [==============================] - 0s 2ms/step - loss: 0.6741 - accuracy: 0.5863 - val_loss: 0.6629 - val_accuracy: 0.6342\n",
      "Epoch 11/100\n",
      "48/48 [==============================] - 0s 2ms/step - loss: 0.6667 - accuracy: 0.6150 - val_loss: 0.6599 - val_accuracy: 0.6243\n",
      "Epoch 12/100\n",
      "48/48 [==============================] - 0s 2ms/step - loss: 0.6722 - accuracy: 0.5918 - val_loss: 0.6584 - val_accuracy: 0.6243\n",
      "Epoch 13/100\n",
      "48/48 [==============================] - 0s 2ms/step - loss: 0.6773 - accuracy: 0.5812 - val_loss: 0.6562 - val_accuracy: 0.6243\n",
      "Epoch 14/100\n",
      "48/48 [==============================] - 0s 2ms/step - loss: 0.6717 - accuracy: 0.5935 - val_loss: 0.6553 - val_accuracy: 0.6302\n",
      "Epoch 15/100\n",
      "48/48 [==============================] - 0s 2ms/step - loss: 0.6608 - accuracy: 0.6125 - val_loss: 0.6551 - val_accuracy: 0.6421\n",
      "Epoch 16/100\n",
      "48/48 [==============================] - 0s 2ms/step - loss: 0.6695 - accuracy: 0.6063 - val_loss: 0.6548 - val_accuracy: 0.6501\n",
      "Epoch 17/100\n",
      "48/48 [==============================] - 0s 2ms/step - loss: 0.6500 - accuracy: 0.6478 - val_loss: 0.6573 - val_accuracy: 0.6362\n",
      "Epoch 18/100\n",
      "48/48 [==============================] - 0s 2ms/step - loss: 0.6631 - accuracy: 0.6181 - val_loss: 0.6512 - val_accuracy: 0.6521\n",
      "Epoch 19/100\n",
      "48/48 [==============================] - 0s 2ms/step - loss: 0.6533 - accuracy: 0.6373 - val_loss: 0.6512 - val_accuracy: 0.6501\n",
      "Epoch 20/100\n",
      "48/48 [==============================] - 0s 2ms/step - loss: 0.6564 - accuracy: 0.6214 - val_loss: 0.6524 - val_accuracy: 0.6481\n",
      "Epoch 21/100\n",
      "48/48 [==============================] - 0s 2ms/step - loss: 0.6511 - accuracy: 0.6384 - val_loss: 0.6471 - val_accuracy: 0.6501\n",
      "Epoch 22/100\n",
      "48/48 [==============================] - 0s 2ms/step - loss: 0.6574 - accuracy: 0.6267 - val_loss: 0.6527 - val_accuracy: 0.6421\n",
      "Epoch 23/100\n",
      "48/48 [==============================] - 0s 2ms/step - loss: 0.6539 - accuracy: 0.6331 - val_loss: 0.6488 - val_accuracy: 0.6481\n",
      "Epoch 24/100\n",
      "48/48 [==============================] - 0s 2ms/step - loss: 0.6523 - accuracy: 0.6328 - val_loss: 0.6442 - val_accuracy: 0.6521\n",
      "Epoch 25/100\n",
      "48/48 [==============================] - 0s 2ms/step - loss: 0.6561 - accuracy: 0.6134 - val_loss: 0.6438 - val_accuracy: 0.6541\n",
      "Epoch 26/100\n",
      "48/48 [==============================] - 0s 2ms/step - loss: 0.6396 - accuracy: 0.6414 - val_loss: 0.6455 - val_accuracy: 0.6501\n",
      "Epoch 27/100\n",
      "48/48 [==============================] - 0s 2ms/step - loss: 0.6558 - accuracy: 0.6218 - val_loss: 0.6374 - val_accuracy: 0.6541\n",
      "Epoch 28/100\n",
      "48/48 [==============================] - 0s 2ms/step - loss: 0.6448 - accuracy: 0.6370 - val_loss: 0.6379 - val_accuracy: 0.6620\n",
      "Epoch 29/100\n",
      "48/48 [==============================] - 0s 7ms/step - loss: 0.6335 - accuracy: 0.6545 - val_loss: 0.6435 - val_accuracy: 0.6521\n",
      "Epoch 30/100\n",
      "48/48 [==============================] - 0s 2ms/step - loss: 0.6373 - accuracy: 0.6385 - val_loss: 0.6366 - val_accuracy: 0.6541\n",
      "Epoch 31/100\n",
      "48/48 [==============================] - 0s 2ms/step - loss: 0.6435 - accuracy: 0.6313 - val_loss: 0.6348 - val_accuracy: 0.6740\n",
      "Epoch 32/100\n",
      "48/48 [==============================] - 0s 2ms/step - loss: 0.6440 - accuracy: 0.6392 - val_loss: 0.6298 - val_accuracy: 0.6680\n",
      "Epoch 33/100\n",
      "48/48 [==============================] - 0s 3ms/step - loss: 0.6326 - accuracy: 0.6572 - val_loss: 0.6347 - val_accuracy: 0.6819\n",
      "Epoch 34/100\n",
      "48/48 [==============================] - 0s 2ms/step - loss: 0.6366 - accuracy: 0.6587 - val_loss: 0.6273 - val_accuracy: 0.6660\n",
      "Epoch 35/100\n",
      "48/48 [==============================] - 0s 2ms/step - loss: 0.6282 - accuracy: 0.6544 - val_loss: 0.6280 - val_accuracy: 0.6799\n",
      "Epoch 36/100\n",
      "48/48 [==============================] - 0s 2ms/step - loss: 0.6324 - accuracy: 0.6712 - val_loss: 0.6282 - val_accuracy: 0.6779\n",
      "Epoch 37/100\n",
      "48/48 [==============================] - 0s 2ms/step - loss: 0.6239 - accuracy: 0.6551 - val_loss: 0.6262 - val_accuracy: 0.6660\n",
      "Epoch 38/100\n",
      "48/48 [==============================] - 0s 2ms/step - loss: 0.6331 - accuracy: 0.6592 - val_loss: 0.6248 - val_accuracy: 0.6740\n",
      "Epoch 39/100\n",
      "48/48 [==============================] - 0s 2ms/step - loss: 0.6225 - accuracy: 0.6722 - val_loss: 0.6226 - val_accuracy: 0.6799\n",
      "Epoch 40/100\n",
      "48/48 [==============================] - 0s 1ms/step - loss: 0.6284 - accuracy: 0.6618 - val_loss: 0.6270 - val_accuracy: 0.6660\n",
      "Epoch 41/100\n",
      "48/48 [==============================] - 0s 2ms/step - loss: 0.6239 - accuracy: 0.6611 - val_loss: 0.6224 - val_accuracy: 0.6740\n",
      "Epoch 42/100\n",
      "48/48 [==============================] - 0s 2ms/step - loss: 0.6192 - accuracy: 0.6672 - val_loss: 0.6260 - val_accuracy: 0.6620\n",
      "Epoch 43/100\n",
      "48/48 [==============================] - 0s 2ms/step - loss: 0.6197 - accuracy: 0.6639 - val_loss: 0.6253 - val_accuracy: 0.6740\n",
      "Epoch 44/100\n",
      "48/48 [==============================] - 0s 2ms/step - loss: 0.6168 - accuracy: 0.6737 - val_loss: 0.6256 - val_accuracy: 0.6779\n",
      "Epoch 45/100\n",
      "48/48 [==============================] - 0s 2ms/step - loss: 0.6246 - accuracy: 0.6695 - val_loss: 0.6228 - val_accuracy: 0.6740\n",
      "Epoch 46/100\n",
      "48/48 [==============================] - 0s 2ms/step - loss: 0.6233 - accuracy: 0.6645 - val_loss: 0.6174 - val_accuracy: 0.6680\n",
      "Epoch 47/100\n",
      "48/48 [==============================] - 0s 2ms/step - loss: 0.6277 - accuracy: 0.6539 - val_loss: 0.6202 - val_accuracy: 0.6759\n",
      "Epoch 48/100\n",
      "48/48 [==============================] - 0s 2ms/step - loss: 0.6143 - accuracy: 0.6762 - val_loss: 0.6226 - val_accuracy: 0.6759\n",
      "Epoch 49/100\n",
      "48/48 [==============================] - 0s 2ms/step - loss: 0.6188 - accuracy: 0.6484 - val_loss: 0.6192 - val_accuracy: 0.6799\n",
      "Epoch 50/100\n",
      "48/48 [==============================] - 0s 2ms/step - loss: 0.6197 - accuracy: 0.6697 - val_loss: 0.6203 - val_accuracy: 0.6859\n",
      "Epoch 51/100\n",
      "48/48 [==============================] - 0s 2ms/step - loss: 0.6285 - accuracy: 0.6645 - val_loss: 0.6169 - val_accuracy: 0.6759\n",
      "Epoch 52/100\n",
      "48/48 [==============================] - 0s 2ms/step - loss: 0.6124 - accuracy: 0.6779 - val_loss: 0.6199 - val_accuracy: 0.6819\n",
      "Epoch 53/100\n",
      "48/48 [==============================] - 0s 2ms/step - loss: 0.6188 - accuracy: 0.6690 - val_loss: 0.6206 - val_accuracy: 0.6740\n",
      "Epoch 54/100\n",
      "48/48 [==============================] - 0s 2ms/step - loss: 0.6054 - accuracy: 0.6934 - val_loss: 0.6332 - val_accuracy: 0.6660\n",
      "Epoch 55/100\n",
      "48/48 [==============================] - 0s 2ms/step - loss: 0.6308 - accuracy: 0.6724 - val_loss: 0.6180 - val_accuracy: 0.6700\n",
      "Epoch 56/100\n",
      "48/48 [==============================] - 0s 2ms/step - loss: 0.6094 - accuracy: 0.6853 - val_loss: 0.6243 - val_accuracy: 0.6879\n",
      "Epoch 57/100\n",
      "48/48 [==============================] - 0s 2ms/step - loss: 0.6229 - accuracy: 0.6593 - val_loss: 0.6208 - val_accuracy: 0.6620\n",
      "Epoch 58/100\n",
      "48/48 [==============================] - 0s 2ms/step - loss: 0.6094 - accuracy: 0.6891 - val_loss: 0.6262 - val_accuracy: 0.6720\n",
      "Epoch 59/100\n",
      "48/48 [==============================] - 0s 2ms/step - loss: 0.6235 - accuracy: 0.6569 - val_loss: 0.6206 - val_accuracy: 0.6779\n",
      "Epoch 60/100\n",
      "48/48 [==============================] - 0s 2ms/step - loss: 0.6175 - accuracy: 0.6650 - val_loss: 0.6162 - val_accuracy: 0.6859\n",
      "Epoch 61/100\n",
      "48/48 [==============================] - 0s 2ms/step - loss: 0.6138 - accuracy: 0.6746 - val_loss: 0.6151 - val_accuracy: 0.6799\n",
      "Epoch 62/100\n",
      "48/48 [==============================] - 0s 2ms/step - loss: 0.6178 - accuracy: 0.6746 - val_loss: 0.6190 - val_accuracy: 0.6720\n",
      "Epoch 63/100\n",
      "48/48 [==============================] - 0s 2ms/step - loss: 0.6092 - accuracy: 0.6802 - val_loss: 0.6201 - val_accuracy: 0.6839\n",
      "Epoch 64/100\n",
      "48/48 [==============================] - 0s 2ms/step - loss: 0.6162 - accuracy: 0.6879 - val_loss: 0.6177 - val_accuracy: 0.6759\n",
      "Epoch 65/100\n",
      "48/48 [==============================] - 0s 2ms/step - loss: 0.6125 - accuracy: 0.6708 - val_loss: 0.6243 - val_accuracy: 0.6720\n",
      "Epoch 66/100\n",
      "48/48 [==============================] - 0s 2ms/step - loss: 0.6074 - accuracy: 0.6783 - val_loss: 0.6188 - val_accuracy: 0.6740\n",
      "Epoch 67/100\n",
      "48/48 [==============================] - 0s 2ms/step - loss: 0.6107 - accuracy: 0.6867 - val_loss: 0.6188 - val_accuracy: 0.6839\n",
      "Epoch 68/100\n",
      "48/48 [==============================] - 0s 2ms/step - loss: 0.6267 - accuracy: 0.6607 - val_loss: 0.6180 - val_accuracy: 0.6779\n",
      "Epoch 69/100\n",
      "48/48 [==============================] - 0s 2ms/step - loss: 0.6002 - accuracy: 0.6869 - val_loss: 0.6238 - val_accuracy: 0.6740\n",
      "Epoch 70/100\n",
      "48/48 [==============================] - 0s 2ms/step - loss: 0.6154 - accuracy: 0.6893 - val_loss: 0.6249 - val_accuracy: 0.6720\n",
      "Epoch 71/100\n",
      "48/48 [==============================] - 0s 2ms/step - loss: 0.5989 - accuracy: 0.6933 - val_loss: 0.6270 - val_accuracy: 0.6720\n",
      "Epoch 72/100\n",
      "48/48 [==============================] - 0s 3ms/step - loss: 0.6117 - accuracy: 0.6788 - val_loss: 0.6269 - val_accuracy: 0.6660\n",
      "Epoch 73/100\n",
      "48/48 [==============================] - 0s 2ms/step - loss: 0.6205 - accuracy: 0.6786 - val_loss: 0.6196 - val_accuracy: 0.6759\n",
      "Epoch 74/100\n",
      "48/48 [==============================] - 0s 2ms/step - loss: 0.6089 - accuracy: 0.6870 - val_loss: 0.6272 - val_accuracy: 0.6640\n",
      "Epoch 75/100\n",
      "48/48 [==============================] - 0s 2ms/step - loss: 0.6170 - accuracy: 0.6763 - val_loss: 0.6225 - val_accuracy: 0.6680\n",
      "Epoch 76/100\n",
      "48/48 [==============================] - 0s 2ms/step - loss: 0.6108 - accuracy: 0.6797 - val_loss: 0.6202 - val_accuracy: 0.6759\n",
      "Epoch 77/100\n",
      "48/48 [==============================] - 0s 2ms/step - loss: 0.6126 - accuracy: 0.6784 - val_loss: 0.6262 - val_accuracy: 0.6740\n",
      "Epoch 78/100\n",
      "48/48 [==============================] - 0s 2ms/step - loss: 0.6167 - accuracy: 0.6678 - val_loss: 0.6182 - val_accuracy: 0.6819\n",
      "Epoch 79/100\n",
      "48/48 [==============================] - 0s 2ms/step - loss: 0.6243 - accuracy: 0.6689 - val_loss: 0.6236 - val_accuracy: 0.6720\n",
      "Epoch 80/100\n",
      "48/48 [==============================] - 0s 2ms/step - loss: 0.6110 - accuracy: 0.6611 - val_loss: 0.6155 - val_accuracy: 0.6700\n",
      "Epoch 81/100\n",
      "48/48 [==============================] - 0s 2ms/step - loss: 0.6013 - accuracy: 0.6981 - val_loss: 0.6276 - val_accuracy: 0.6720\n",
      "Epoch 82/100\n",
      "48/48 [==============================] - 0s 2ms/step - loss: 0.6120 - accuracy: 0.6790 - val_loss: 0.6172 - val_accuracy: 0.6740\n",
      "Epoch 83/100\n",
      "48/48 [==============================] - 0s 2ms/step - loss: 0.5972 - accuracy: 0.6912 - val_loss: 0.6190 - val_accuracy: 0.6720\n",
      "Epoch 84/100\n",
      "48/48 [==============================] - 0s 2ms/step - loss: 0.6083 - accuracy: 0.6787 - val_loss: 0.6228 - val_accuracy: 0.6680\n",
      "Epoch 85/100\n",
      "48/48 [==============================] - 0s 2ms/step - loss: 0.6110 - accuracy: 0.6834 - val_loss: 0.6197 - val_accuracy: 0.6759\n",
      "Epoch 86/100\n",
      "48/48 [==============================] - 0s 2ms/step - loss: 0.6070 - accuracy: 0.6764 - val_loss: 0.6179 - val_accuracy: 0.6759\n",
      "Epoch 87/100\n",
      "48/48 [==============================] - 0s 2ms/step - loss: 0.6164 - accuracy: 0.6807 - val_loss: 0.6198 - val_accuracy: 0.6720\n",
      "Epoch 88/100\n",
      "48/48 [==============================] - 0s 2ms/step - loss: 0.6030 - accuracy: 0.6940 - val_loss: 0.6196 - val_accuracy: 0.6799\n",
      "Epoch 89/100\n",
      "48/48 [==============================] - 0s 2ms/step - loss: 0.6202 - accuracy: 0.6664 - val_loss: 0.6182 - val_accuracy: 0.6799\n",
      "Epoch 90/100\n",
      "48/48 [==============================] - 0s 2ms/step - loss: 0.6187 - accuracy: 0.6686 - val_loss: 0.6183 - val_accuracy: 0.6759\n",
      "Epoch 91/100\n",
      "48/48 [==============================] - 0s 2ms/step - loss: 0.5932 - accuracy: 0.6963 - val_loss: 0.6238 - val_accuracy: 0.6799\n",
      "Epoch 92/100\n",
      "48/48 [==============================] - 0s 2ms/step - loss: 0.6144 - accuracy: 0.6678 - val_loss: 0.6197 - val_accuracy: 0.6819\n",
      "Epoch 93/100\n",
      "48/48 [==============================] - 0s 2ms/step - loss: 0.6036 - accuracy: 0.6820 - val_loss: 0.6210 - val_accuracy: 0.6759\n",
      "Epoch 94/100\n",
      "48/48 [==============================] - 0s 2ms/step - loss: 0.6220 - accuracy: 0.6613 - val_loss: 0.6177 - val_accuracy: 0.6680\n",
      "Epoch 95/100\n",
      "48/48 [==============================] - 0s 2ms/step - loss: 0.6123 - accuracy: 0.6791 - val_loss: 0.6237 - val_accuracy: 0.6740\n",
      "Epoch 96/100\n",
      "48/48 [==============================] - 0s 2ms/step - loss: 0.6211 - accuracy: 0.6633 - val_loss: 0.6196 - val_accuracy: 0.6759\n",
      "Epoch 97/100\n",
      "48/48 [==============================] - 0s 2ms/step - loss: 0.6158 - accuracy: 0.6746 - val_loss: 0.6186 - val_accuracy: 0.6759\n",
      "Epoch 98/100\n",
      "48/48 [==============================] - 0s 2ms/step - loss: 0.6103 - accuracy: 0.6773 - val_loss: 0.6181 - val_accuracy: 0.6799\n",
      "Epoch 99/100\n",
      "48/48 [==============================] - 0s 2ms/step - loss: 0.5996 - accuracy: 0.6876 - val_loss: 0.6273 - val_accuracy: 0.6839\n",
      "Epoch 100/100\n",
      "48/48 [==============================] - 0s 2ms/step - loss: 0.6058 - accuracy: 0.6813 - val_loss: 0.6194 - val_accuracy: 0.6779\n"
     ]
    }
   ],
   "source": [
    "# Trening\n",
    "history = model.fit(x_train_scaled, y_train, validation_data=(x_test_scaled, y_test), epochs=100, verbose=1)"
   ]
  },
  {
   "cell_type": "code",
   "execution_count": 120,
   "id": "6fcb2239",
   "metadata": {},
   "outputs": [
    {
     "data": {
      "text/plain": [
       "<matplotlib.legend.Legend at 0x26f179a9948>"
      ]
     },
     "execution_count": 120,
     "metadata": {},
     "output_type": "execute_result"
    },
    {
     "data": {
      "image/png": "[encoded data removed]",
      "text/plain": [
       "<Figure size 432x288 with 1 Axes>"
      ]
     },
     "metadata": {
      "needs_background": "light"
     },
     "output_type": "display_data"
    }
   ],
   "source": [
    "# Wykres błędów\n",
    "plt.plot(history.history['loss'])\n",
    "plt.plot(history.history['val_loss'])\n",
    "plt.title('Błąd podczas nauki i walidacji')\n",
    "plt.ylabel('Błąd')\n",
    "plt.xlabel('Eopka')\n",
    "plt.legend(['traning', 'walidacja'], loc='upper left')"
   ]
  },
  {
   "cell_type": "code",
   "execution_count": 121,
   "id": "84599acf",
   "metadata": {},
   "outputs": [],
   "source": [
    "# Dokonajmy predukcji"
   ]
  },
  {
   "cell_type": "code",
   "execution_count": 122,
   "id": "1d5d23d0",
   "metadata": {},
   "outputs": [],
   "source": [
    "# DANE TRENINGOWE"
   ]
  },
  {
   "cell_type": "code",
   "execution_count": 123,
   "id": "d523ca79",
   "metadata": {},
   "outputs": [
    {
     "name": "stdout",
     "output_type": "stream",
     "text": [
      "WARNING:tensorflow:AutoGraph could not transform <function Model.make_predict_function.<locals>.predict_function at 0x0000026F12FF7318> and will run it as-is.\n",
      "Please report this to the TensorFlow team. When filing the bug, set the verbosity to 10 (on Linux, `export AUTOGRAPH_VERBOSITY=10`) and attach the full output.\n",
      "Cause: 'arguments' object has no attribute 'posonlyargs'\n",
      "To silence this warning, decorate the function with @tf.autograph.experimental.do_not_convert\n",
      "WARNING: AutoGraph could not transform <function Model.make_predict_function.<locals>.predict_function at 0x0000026F12FF7318> and will run it as-is.\n",
      "Please report this to the TensorFlow team. When filing the bug, set the verbosity to 10 (on Linux, `export AUTOGRAPH_VERBOSITY=10`) and attach the full output.\n",
      "Cause: 'arguments' object has no attribute 'posonlyargs'\n",
      "To silence this warning, decorate the function with @tf.autograph.experimental.do_not_convert\n"
     ]
    }
   ],
   "source": [
    "pred_train = model.predict(x_train_scaled)\n",
    "pred_class = [round(m[0]) for m in pred_train]"
   ]
  },
  {
   "cell_type": "code",
   "execution_count": 124,
   "id": "3d3c3f50",
   "metadata": {},
   "outputs": [],
   "source": [
    "from sklearn.metrics import classification_report, confusion_matrix"
   ]
  },
  {
   "cell_type": "code",
   "execution_count": 125,
   "id": "f5d46f08",
   "metadata": {},
   "outputs": [],
   "source": [
    "# Macierz pomyłek"
   ]
  },
  {
   "cell_type": "code",
   "execution_count": 126,
   "id": "8b934be2",
   "metadata": {},
   "outputs": [],
   "source": [
    "cf_matrix_train = confusion_matrix(y_train, pred_class)"
   ]
  },
  {
   "cell_type": "code",
   "execution_count": 127,
   "id": "f38ab2df",
   "metadata": {},
   "outputs": [
    {
     "data": {
      "text/plain": [
       "0    891\n",
       "1    617\n",
       "Name: Potability, dtype: int64"
      ]
     },
     "execution_count": 127,
     "metadata": {},
     "output_type": "execute_result"
    }
   ],
   "source": [
    "y_train.value_counts()"
   ]
  },
  {
   "cell_type": "code",
   "execution_count": 128,
   "id": "3fdbcd81",
   "metadata": {},
   "outputs": [
    {
     "data": {
      "text/plain": [
       "array([[768, 123],\n",
       "       [350, 267]], dtype=int64)"
      ]
     },
     "execution_count": 128,
     "metadata": {},
     "output_type": "execute_result"
    }
   ],
   "source": [
    "cf_matrix_train"
   ]
  },
  {
   "cell_type": "code",
   "execution_count": 129,
   "id": "a4771ecf",
   "metadata": {},
   "outputs": [],
   "source": [
    "tn_train, fp_train, fn_train, tp_train = cf_matrix_train.ravel()"
   ]
  },
  {
   "cell_type": "code",
   "execution_count": 130,
   "id": "cd8118a7",
   "metadata": {},
   "outputs": [
    {
     "data": {
      "text/plain": [
       "768"
      ]
     },
     "execution_count": 130,
     "metadata": {},
     "output_type": "execute_result"
    }
   ],
   "source": [
    "tn_train"
   ]
  },
  {
   "cell_type": "code",
   "execution_count": 131,
   "id": "731cd424",
   "metadata": {},
   "outputs": [
    {
     "data": {
      "text/plain": [
       "123"
      ]
     },
     "execution_count": 131,
     "metadata": {},
     "output_type": "execute_result"
    }
   ],
   "source": [
    "fp_train"
   ]
  },
  {
   "cell_type": "code",
   "execution_count": 132,
   "id": "004a1d63",
   "metadata": {
    "scrolled": true
   },
   "outputs": [
    {
     "data": {
      "text/plain": [
       "350"
      ]
     },
     "execution_count": 132,
     "metadata": {},
     "output_type": "execute_result"
    }
   ],
   "source": [
    "fn_train"
   ]
  },
  {
   "cell_type": "code",
   "execution_count": 133,
   "id": "6fcf75e2",
   "metadata": {},
   "outputs": [
    {
     "data": {
      "text/plain": [
       "267"
      ]
     },
     "execution_count": 133,
     "metadata": {},
     "output_type": "execute_result"
    }
   ],
   "source": [
    "tp_train"
   ]
  },
  {
   "cell_type": "code",
   "execution_count": 134,
   "id": "fec7f162",
   "metadata": {},
   "outputs": [],
   "source": [
    "# Raport z klasyfikacji"
   ]
  },
  {
   "cell_type": "code",
   "execution_count": 135,
   "id": "734ae215",
   "metadata": {},
   "outputs": [
    {
     "name": "stdout",
     "output_type": "stream",
     "text": [
      "              precision    recall  f1-score   support\n",
      "\n",
      "           0       0.69      0.86      0.76       891\n",
      "           1       0.68      0.43      0.53       617\n",
      "\n",
      "    accuracy                           0.69      1508\n",
      "   macro avg       0.69      0.65      0.65      1508\n",
      "weighted avg       0.69      0.69      0.67      1508\n",
      "\n"
     ]
    }
   ],
   "source": [
    "print(classification_report(y_train, pred_class))"
   ]
  },
  {
   "cell_type": "code",
   "execution_count": 138,
   "id": "62a7e629",
   "metadata": {},
   "outputs": [],
   "source": [
    "# DANE TESTOWE\n",
    "pred_test = model.predict(x_test_scaled)\n",
    "pred_class_test = [round(m[0]) for m in pred_test]"
   ]
  },
  {
   "cell_type": "code",
   "execution_count": 139,
   "id": "f19fb2f6",
   "metadata": {},
   "outputs": [],
   "source": [
    "cf_matrix_test = confusion_matrix(y_test, pred_class_test)"
   ]
  },
  {
   "cell_type": "code",
   "execution_count": 140,
   "id": "a801ba13",
   "metadata": {},
   "outputs": [
    {
     "data": {
      "text/plain": [
       "0    309\n",
       "1    194\n",
       "Name: Potability, dtype: int64"
      ]
     },
     "execution_count": 140,
     "metadata": {},
     "output_type": "execute_result"
    }
   ],
   "source": [
    "y_test.value_counts()"
   ]
  },
  {
   "cell_type": "code",
   "execution_count": 141,
   "id": "695f139c",
   "metadata": {},
   "outputs": [
    {
     "data": {
      "text/plain": [
       "array([[259,  50],\n",
       "       [112,  82]], dtype=int64)"
      ]
     },
     "execution_count": 141,
     "metadata": {},
     "output_type": "execute_result"
    }
   ],
   "source": [
    "cf_matrix_test"
   ]
  },
  {
   "cell_type": "code",
   "execution_count": 142,
   "id": "b2a76fb1",
   "metadata": {},
   "outputs": [],
   "source": [
    "tn_test, fp_test, fn_test, tp_test = cf_matrix_test.ravel()"
   ]
  },
  {
   "cell_type": "code",
   "execution_count": 144,
   "id": "fa5e6d1c",
   "metadata": {},
   "outputs": [
    {
     "data": {
      "text/plain": [
       "259"
      ]
     },
     "execution_count": 144,
     "metadata": {},
     "output_type": "execute_result"
    }
   ],
   "source": [
    "tn_test"
   ]
  },
  {
   "cell_type": "code",
   "execution_count": 145,
   "id": "bf311d6d",
   "metadata": {},
   "outputs": [
    {
     "data": {
      "text/plain": [
       "50"
      ]
     },
     "execution_count": 145,
     "metadata": {},
     "output_type": "execute_result"
    }
   ],
   "source": [
    "fp_test"
   ]
  },
  {
   "cell_type": "code",
   "execution_count": 146,
   "id": "2526a15f",
   "metadata": {},
   "outputs": [
    {
     "data": {
      "text/plain": [
       "112"
      ]
     },
     "execution_count": 146,
     "metadata": {},
     "output_type": "execute_result"
    }
   ],
   "source": [
    "fn_test"
   ]
  },
  {
   "cell_type": "code",
   "execution_count": 147,
   "id": "7becc850",
   "metadata": {},
   "outputs": [
    {
     "data": {
      "text/plain": [
       "82"
      ]
     },
     "execution_count": 147,
     "metadata": {},
     "output_type": "execute_result"
    }
   ],
   "source": [
    "tp_test"
   ]
  },
  {
   "cell_type": "code",
   "execution_count": null,
   "id": "d150ec50",
   "metadata": {},
   "outputs": [],
   "source": [
    "# Raport z klasyfikacji"
   ]
  },
  {
   "cell_type": "code",
   "execution_count": 148,
   "id": "93f6beb1",
   "metadata": {},
   "outputs": [
    {
     "name": "stdout",
     "output_type": "stream",
     "text": [
      "              precision    recall  f1-score   support\n",
      "\n",
      "           0       0.70      0.84      0.76       309\n",
      "           1       0.62      0.42      0.50       194\n",
      "\n",
      "    accuracy                           0.68       503\n",
      "   macro avg       0.66      0.63      0.63       503\n",
      "weighted avg       0.67      0.68      0.66       503\n",
      "\n"
     ]
    }
   ],
   "source": [
    "print(classification_report(y_test, pred_class_test))"
   ]
  }
 ],
 "metadata": {
  "kernelspec": {
   "display_name": "Python 3 (ipykernel)",
   "language": "python",
   "name": "python3"
  },
  "language_info": {
   "codemirror_mode": {
    "name": "ipython",
    "version": 3
   },
   "file_extension": ".py",
   "mimetype": "text/x-python",
   "name": "python",
   "nbconvert_exporter": "python",
   "pygments_lexer": "ipython3",
   "version": "3.7.4"
  }
 },
 "nbformat": 4,
 "nbformat_minor": 5
}
